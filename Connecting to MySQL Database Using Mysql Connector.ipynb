{
 "cells": [
  {
   "cell_type": "markdown",
   "id": "35b2587e",
   "metadata": {},
   "source": [
    "# Connecting to MySQL Database, Data Insertion, and Analysis"
   ]
  },
  {
   "cell_type": "markdown",
   "id": "fcc31352",
   "metadata": {},
   "source": [
    "Connecting to a MySQL database from Python opens up a wealth of opportunities for data analysis and manipulation. By establishing a connection to the database, Python developers can seamlessly retrieve data stored in MySQL tables directly into their Python environment. This enables them to leverage the powerful analytical capabilities of Python libraries such as Pandas, NumPy, and Matplotlib to explore, clean, transform, and visualize data. With access to real-time or historical data stored in MySQL, analysts and data scientists can gain valuable insights, identify patterns, and make data-driven decisions. Whether it's performing statistical analysis, generating visualizations, or building machine learning models, the ability to connect to a MySQL database from Python empowers users to unlock the full potential of their data for analysis and decision-making."
   ]
  },
  {
   "cell_type": "code",
   "execution_count": 1,
   "id": "244778ba",
   "metadata": {},
   "outputs": [
    {
     "name": "stdout",
     "output_type": "stream",
     "text": [
      "Requirement already satisfied: mysql-connector-python in /Users/vijaykumarreddybommireddy/anaconda3/lib/python3.11/site-packages (8.4.0)\r\n"
     ]
    }
   ],
   "source": [
    "#installing python mysql connector\n",
    "!python -m pip install mysql-connector-python"
   ]
  },
  {
   "cell_type": "code",
   "execution_count": 2,
   "id": "cba58656",
   "metadata": {},
   "outputs": [],
   "source": [
    "#import my sql connector\n",
    "import mysql.connector"
   ]
  },
  {
   "cell_type": "code",
   "execution_count": 3,
   "id": "92efe881",
   "metadata": {},
   "outputs": [
    {
     "name": "stdout",
     "output_type": "stream",
     "text": [
      "<mysql.connector.connection_cext.CMySQLConnection object at 0x1088a1390>\n"
     ]
    }
   ],
   "source": [
    "#create a connection to database\n",
    "new_db=mysql.connector.connect(\n",
    "    host='localhost',\n",
    "    user='root',\n",
    "    password='####',\n",
    ")\n",
    "\n",
    "print(new_db)"
   ]
  },
  {
   "cell_type": "code",
   "execution_count": 4,
   "id": "fe3a0b19",
   "metadata": {},
   "outputs": [],
   "source": [
    "#Create a Database and testing\n",
    "#importing module\n",
    "import mysql.connector\n",
    "\n",
    "#creating new connection\n",
    "new_db=mysql.connector.connect(\n",
    "    host='localhost',\n",
    "    user='root',\n",
    "    password='####',\n",
    ")\n",
    "\n",
    "#create a cursor\n",
    "new_cursor=new_db.cursor()\n",
    "\n",
    "#creata a database with new cursor\n",
    "new_cursor.execute(\"CREATE DATABASE Data\")"
   ]
  },
  {
   "cell_type": "code",
   "execution_count": 5,
   "id": "61aebe23",
   "metadata": {},
   "outputs": [
    {
     "name": "stdout",
     "output_type": "stream",
     "text": [
      "('CASET',)\n",
      "('Data',)\n",
      "('Datasource',)\n",
      "('information_schema',)\n",
      "('lsql',)\n",
      "('mysql',)\n",
      "('newData',)\n",
      "('performance_schema',)\n",
      "('sqlData',)\n"
     ]
    }
   ],
   "source": [
    "#check database is created or not\n",
    "\n",
    "#import module\n",
    "import mysql.connector\n",
    "\n",
    "#creating new connection\n",
    "new_db=mysql.connector.connect(\n",
    "    host='localhost',\n",
    "    user='root',\n",
    "    password='####',\n",
    ")\n",
    "\n",
    "#create a cursor\n",
    "new_cursor=new_db.cursor()\n",
    "\n",
    "#check newData database created or not\n",
    "new_cursor.execute(\"SHOW DATABASES\")\n",
    "\n",
    "#use for loop to iterate over the cursor for checking of database\n",
    "for n in new_cursor:\n",
    "    print(n)"
   ]
  },
  {
   "cell_type": "code",
   "execution_count": 6,
   "id": "3121f59e",
   "metadata": {},
   "outputs": [],
   "source": [
    "#alternative method to check database exists or not\n",
    "\n",
    "#import module\n",
    "import mysql.connector\n",
    "\n",
    "#creating new connection\n",
    "new_db=mysql.connector.connect(\n",
    "    host='localhost',\n",
    "    user='root',\n",
    "    password='####',\n",
    "    database='Data'\n",
    ")"
   ]
  },
  {
   "cell_type": "markdown",
   "id": "5f92f217",
   "metadata": {},
   "source": [
    "## Creating Tables and Checking¶"
   ]
  },
  {
   "cell_type": "code",
   "execution_count": 7,
   "id": "f2dd57e4",
   "metadata": {},
   "outputs": [],
   "source": [
    "new_cursor=new_db.cursor()\n",
    "new_cursor.execute('CREATE TABLE students (name VARCHAR(255), code VARCHAR(255))')"
   ]
  },
  {
   "cell_type": "markdown",
   "id": "db44c07d",
   "metadata": {},
   "source": [
    "## List of Tables in newData"
   ]
  },
  {
   "cell_type": "code",
   "execution_count": 8,
   "id": "7f88f984",
   "metadata": {},
   "outputs": [
    {
     "name": "stdout",
     "output_type": "stream",
     "text": [
      "('students',)\n"
     ]
    }
   ],
   "source": [
    "new_cursor=new_db.cursor()\n",
    "new_cursor.execute('SHOW TABLES')\n",
    "\n",
    "for x in new_cursor:\n",
    "    print(x)"
   ]
  },
  {
   "cell_type": "markdown",
   "id": "8ba8f070",
   "metadata": {},
   "source": [
    "## Add Primary key for Tables"
   ]
  },
  {
   "cell_type": "code",
   "execution_count": 9,
   "id": "fca46aef",
   "metadata": {},
   "outputs": [],
   "source": [
    "new_cursor.execute(\"CREATE TABLE client(id INT AUTO_INCREMENT PRIMARY KEY, name VARCHAR(255), code VARCHAR(255))\")"
   ]
  },
  {
   "cell_type": "markdown",
   "id": "d6c72c2b",
   "metadata": {},
   "source": [
    "## Add Primary Key if table already exists"
   ]
  },
  {
   "cell_type": "code",
   "execution_count": 11,
   "id": "5e039b9a",
   "metadata": {},
   "outputs": [],
   "source": [
    "new_cursor.execute(\"ALTER TABLE students ADD COLUMN id INT AUTO_INCREMENT PRIMARY KEY \")"
   ]
  },
  {
   "cell_type": "markdown",
   "id": "e0076711",
   "metadata": {},
   "source": [
    "## Insert records into tables"
   ]
  },
  {
   "cell_type": "code",
   "execution_count": 13,
   "id": "bf2bb26e",
   "metadata": {},
   "outputs": [
    {
     "name": "stdout",
     "output_type": "stream",
     "text": [
      "1 new recored inserted\n"
     ]
    }
   ],
   "source": [
    "new_sql = \"INSERT INTO  students (name,code) VALUES (%s, %s)\"\n",
    "new_vals=(\"Ronaldo\",\"CODE12\")\n",
    "\n",
    "new_cursor.execute(new_sql,new_vals)\n",
    "\n",
    "new_db.commit()\n",
    "\n",
    "print(new_cursor.rowcount,\"new recored inserted\")"
   ]
  },
  {
   "cell_type": "markdown",
   "id": "ef80e93c",
   "metadata": {},
   "source": [
    "## Adding many records"
   ]
  },
  {
   "cell_type": "code",
   "execution_count": 14,
   "id": "cf5d556c",
   "metadata": {},
   "outputs": [
    {
     "name": "stdout",
     "output_type": "stream",
     "text": [
      "4 new recored inserted\n"
     ]
    }
   ],
   "source": [
    "new_sql = \"INSERT INTO  students (name,code) VALUES (%s, %s)\"\n",
    "\n",
    "new_val=[\n",
    "    (\"Mesi\",\"code30\"),\n",
    "    (\"Pogba\",\"code06\"),\n",
    "    (\"Salah\",\"code11\"),\n",
    "    (\"Someone\",\"code110\")\n",
    "]\n",
    "\n",
    "new_cursor.executemany(new_sql,new_val)\n",
    "\n",
    "new_db.commit()\n",
    "\n",
    "print(new_cursor.rowcount,\"new recored inserted\")"
   ]
  },
  {
   "cell_type": "markdown",
   "id": "cf0cb613",
   "metadata": {},
   "source": [
    "## SELECT and fetch all data"
   ]
  },
  {
   "cell_type": "code",
   "execution_count": 15,
   "id": "9ce6ed2a",
   "metadata": {},
   "outputs": [
    {
     "name": "stdout",
     "output_type": "stream",
     "text": [
      "('Ronaldo', 'CODE12', 1)\n",
      "('Mesi', 'code30', 2)\n",
      "('Pogba', 'code06', 3)\n",
      "('Salah', 'code11', 4)\n",
      "('Someone', 'code110', 5)\n"
     ]
    }
   ],
   "source": [
    "new_cursor=new_db.cursor()\n",
    "\n",
    "new_cursor.execute(\"SELECT * FROM students\")\n",
    "\n",
    "new_data=new_cursor.fetchall()\n",
    "\n",
    "for x in new_data:\n",
    "    print(x)"
   ]
  },
  {
   "cell_type": "code",
   "execution_count": 16,
   "id": "e09a970f",
   "metadata": {},
   "outputs": [
    {
     "name": "stdout",
     "output_type": "stream",
     "text": [
      "('Ronaldo',)\n",
      "('Mesi',)\n",
      "('Pogba',)\n",
      "('Salah',)\n",
      "('Someone',)\n"
     ]
    }
   ],
   "source": [
    "new_cursor=new_db.cursor()\n",
    "\n",
    "new_cursor.execute(\"select name FROM students\")\n",
    "new_data=new_cursor.fetchall()\n",
    "\n",
    "for x in new_data:\n",
    "    print(x)"
   ]
  },
  {
   "cell_type": "markdown",
   "id": "5cc76a8d",
   "metadata": {},
   "source": [
    "## Filter The Results"
   ]
  },
  {
   "cell_type": "code",
   "execution_count": 18,
   "id": "a7b2cb17",
   "metadata": {
    "scrolled": true
   },
   "outputs": [
    {
     "name": "stdout",
     "output_type": "stream",
     "text": [
      "('Ronaldo', 'CODE12', 1)\n"
     ]
    }
   ],
   "source": [
    "new_cursor=new_db.cursor()\n",
    "\n",
    "new_sql=\"SELECT * FROM students WHERE name='Ronaldo'\"\n",
    "\n",
    "new_cursor.execute(new_sql)\n",
    "\n",
    "new_data=new_cursor.fetchall()\n",
    "\n",
    "for x in new_data:\n",
    "    print(x)"
   ]
  },
  {
   "cell_type": "markdown",
   "id": "a71aa492",
   "metadata": {},
   "source": [
    "## Wild Card Character"
   ]
  },
  {
   "cell_type": "code",
   "execution_count": 19,
   "id": "8fce76da",
   "metadata": {},
   "outputs": [
    {
     "name": "stdout",
     "output_type": "stream",
     "text": [
      "('Mesi', 'code30', 2)\n"
     ]
    }
   ],
   "source": [
    "new_cursor=new_db.cursor()\n",
    "\n",
    "new_sql=\"SELECT * FROM students WHERE name LIKE '%Mesi%' \"\n",
    "\n",
    "new_cursor.execute(new_sql)\n",
    "\n",
    "new_data=new_cursor.fetchall()\n",
    "\n",
    "for x in new_data:\n",
    "    print(x)"
   ]
  },
  {
   "cell_type": "markdown",
   "id": "b5254852",
   "metadata": {},
   "source": [
    "## Sorting The Results"
   ]
  },
  {
   "cell_type": "code",
   "execution_count": 17,
   "id": "ac52a86e",
   "metadata": {},
   "outputs": [
    {
     "name": "stdout",
     "output_type": "stream",
     "text": [
      "('Mesi', 'code30', 2)\n",
      "('Ronaldo', 'CODE12', 1)\n",
      "('Someone', 'code110', 5)\n",
      "('Salah', 'code11', 4)\n",
      "('Pogba', 'code06', 3)\n"
     ]
    }
   ],
   "source": [
    "new_cursor=new_db.cursor()\n",
    "\n",
    "new_sql=\"SELECT * FROM students ORDER BY code DESC\"\n",
    "\n",
    "new_cursor.execute(new_sql)\n",
    "\n",
    "new_data=new_cursor.fetchall()\n",
    "\n",
    "for x in new_data:\n",
    "    print(x)"
   ]
  },
  {
   "cell_type": "code",
   "execution_count": 20,
   "id": "02ec92ef",
   "metadata": {},
   "outputs": [
    {
     "name": "stdout",
     "output_type": "stream",
     "text": [
      "('Mesi', 'code30', 2)\n",
      "('Ronaldo', 'CODE12', 1)\n",
      "('Someone', 'code110', 5)\n",
      "('Salah', 'code11', 4)\n",
      "('Pogba', 'code06', 3)\n"
     ]
    }
   ],
   "source": [
    "new_cursor=new_db.cursor()\n",
    "\n",
    "new_sql=\"SELECT * FROM students ORDER BY code DESC\"\n",
    "\n",
    "new_cursor.execute(new_sql)\n",
    "\n",
    "new_data=new_cursor.fetchall()\n",
    "\n",
    "for x in new_data:\n",
    "    print(x)"
   ]
  },
  {
   "cell_type": "markdown",
   "id": "f665fb2a",
   "metadata": {},
   "source": [
    "## DELETING Records"
   ]
  },
  {
   "cell_type": "code",
   "execution_count": 21,
   "id": "82b44da8",
   "metadata": {},
   "outputs": [
    {
     "name": "stdout",
     "output_type": "stream",
     "text": [
      "1 records deleted from new data\n"
     ]
    }
   ],
   "source": [
    "new_cursor=new_db.cursor()\n",
    "\n",
    "new_sql=\"DELETE FROM students WHERE name =%s \"\n",
    "name=(\"Ronaldo\",)\n",
    "\n",
    "new_cursor.execute(new_sql,name)\n",
    "\n",
    "new_db.commit()\n",
    "\n",
    "print(new_cursor.rowcount,\"records deleted from new data\")"
   ]
  },
  {
   "cell_type": "markdown",
   "id": "f7ab0b7f",
   "metadata": {},
   "source": [
    "## Deleting Table"
   ]
  },
  {
   "cell_type": "code",
   "execution_count": 22,
   "id": "1edaa216",
   "metadata": {},
   "outputs": [],
   "source": [
    "new_cursor=new_db.cursor()\n",
    "\n",
    "new_sql=\"DROP TABLE IF EXISTS  client\"\n",
    "\n",
    "\n",
    "new_cursor.execute(new_sql)"
   ]
  },
  {
   "cell_type": "markdown",
   "id": "7c2b5347",
   "metadata": {},
   "source": [
    "## Updating Tables and Escaping values"
   ]
  },
  {
   "cell_type": "code",
   "execution_count": 23,
   "id": "3763624b",
   "metadata": {},
   "outputs": [
    {
     "name": "stdout",
     "output_type": "stream",
     "text": [
      "0 records changed in students tables!\n"
     ]
    }
   ],
   "source": [
    "new_cursor=new_db.cursor()\n",
    "\n",
    "new_sql=\"UPDATE students SET code =%s WHERE  code =%s \"\n",
    "new_vals=('Code12','Code07')\n",
    "\n",
    "\n",
    "new_cursor.execute(new_sql,new_vals)\n",
    "\n",
    "new_db.commit()\n",
    "\n",
    "print(new_cursor.rowcount,\"records changed in students tables!\")"
   ]
  },
  {
   "cell_type": "code",
   "execution_count": 26,
   "id": "4e4a9a5c",
   "metadata": {},
   "outputs": [
    {
     "name": "stdout",
     "output_type": "stream",
     "text": [
      "('Mesi', 'code30', 2)\n",
      "('Someone', 'code110', 5)\n",
      "('Salah', 'code11', 4)\n",
      "('Pogba', 'code06', 3)\n"
     ]
    }
   ],
   "source": [
    "new_cursor=new_db.cursor()\n",
    "\n",
    "new_sql=\"SELECT * FROM students ORDER BY code DESC\"\n",
    "\n",
    "new_cursor.execute(new_sql)\n",
    "\n",
    "new_data=new_cursor.fetchall()\n",
    "\n",
    "for x in new_data:\n",
    "    print(x)"
   ]
  },
  {
   "cell_type": "code",
   "execution_count": 28,
   "id": "483ffc3a",
   "metadata": {},
   "outputs": [
    {
     "name": "stdout",
     "output_type": "stream",
     "text": [
      "('Pogba', 'code06', 3)\n",
      "('Salah', 'code11', 4)\n"
     ]
    }
   ],
   "source": [
    "new_cursor=new_db.cursor()\n",
    "\n",
    "new_sql=\"SELECT * FROM students LIMIT 2 OFFSET 1\"\n",
    "\n",
    "new_cursor.execute(new_sql)\n",
    "\n",
    "new_data=new_cursor.fetchall()\n",
    "\n",
    "for x in new_data:\n",
    "    print(x)"
   ]
  },
  {
   "cell_type": "code",
   "execution_count": 32,
   "id": "e6e9033a",
   "metadata": {},
   "outputs": [
    {
     "name": "stdout",
     "output_type": "stream",
     "text": [
      "[('Pogba', 'code06', 3), ('Salah', 'code11', 4), ('Someone', 'code110', 5)]\n"
     ]
    }
   ],
   "source": [
    "new_cursor=new_db.cursor()\n",
    "\n",
    "new_sql=\"SELECT * FROM students LIMIT 3 OFFSET 1\"\n",
    "\n",
    "new_cursor.execute(new_sql)\n",
    "\n",
    "new_data=new_cursor.fetchall()\n",
    "\n",
    "print(new_data)"
   ]
  },
  {
   "cell_type": "code",
   "execution_count": 33,
   "id": "69ddaab2",
   "metadata": {},
   "outputs": [
    {
     "name": "stdout",
     "output_type": "stream",
     "text": [
      "('Mesi', 'code30', 2)\n"
     ]
    }
   ],
   "source": [
    "new_cursor=new_db.cursor()\n",
    "\n",
    "new_cursor.execute(\"select * FROM students\")\n",
    "new_data=new_cursor.fetchone()\n",
    "\n",
    "print(new_data)"
   ]
  },
  {
   "cell_type": "code",
   "execution_count": null,
   "id": "eb917262",
   "metadata": {},
   "outputs": [],
   "source": []
  }
 ],
 "metadata": {
  "kernelspec": {
   "display_name": "Python 3 (ipykernel)",
   "language": "python",
   "name": "python3"
  },
  "language_info": {
   "codemirror_mode": {
    "name": "ipython",
    "version": 3
   },
   "file_extension": ".py",
   "mimetype": "text/x-python",
   "name": "python",
   "nbconvert_exporter": "python",
   "pygments_lexer": "ipython3",
   "version": "3.11.5"
  }
 },
 "nbformat": 4,
 "nbformat_minor": 5
}
